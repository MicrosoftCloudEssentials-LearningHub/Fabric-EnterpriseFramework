{
 "cells": [
  {
   "cell_type": "markdown",
   "id": "ab7f0b7c-b0cc-44ec-9948-61d68f4b0b13",
   "metadata": {
    "microsoft": {
     "language": "python",
     "language_group": "synapse_pyspark"
    },
    "nteract": {
     "transient": {
      "deleting": false
     }
    }
   },
   "source": [
    "# PySpark Code to Move Data from Silver to Gold"
   ]
  },
  {
   "cell_type": "markdown",
   "id": "44f47922-4e3b-45cc-81a6-c5de97634f73",
   "metadata": {
    "microsoft": {
     "language": "python",
     "language_group": "synapse_pyspark"
    },
    "nteract": {
     "transient": {
      "deleting": false
     }
    }
   },
   "source": [
    "This is an example on how to work with the medallion architecture. From Silver to Gold"
   ]
  },
  {
   "cell_type": "markdown",
   "id": "4e1afae8-b2ef-4e4c-9ac9-485139f19e9c",
   "metadata": {
    "microsoft": {
     "language": "python",
     "language_group": "synapse_pyspark"
    },
    "nteract": {
     "transient": {
      "deleting": false
     }
    }
   },
   "source": [
    "## Working with 2020orders_silver information"
   ]
  },
  {
   "cell_type": "code",
   "execution_count": 13,
   "id": "febb6c3e-6841-42c1-a633-0da056b7f69c",
   "metadata": {
    "microsoft": {
     "language": "python",
     "language_group": "synapse_pyspark"
    }
   },
   "outputs": [
    {
     "data": {
      "application/vnd.livy.statement-meta+json": {
       "execution_finish_time": "2024-10-25T20:29:17.2577679Z",
       "execution_start_time": "2024-10-25T20:29:16.9788868Z",
       "livy_statement_state": "available",
       "normalized_state": "finished",
       "parent_msg_id": "f6330200-43db-4e0b-9e85-773c1fa95042",
       "queued_time": "2024-10-25T20:29:16.4970957Z",
       "session_id": "8c75f6dc-9a98-446c-957a-b0fa1e9d3fa5",
       "session_start_time": null,
       "spark_pool": null,
       "state": "finished",
       "statement_id": 15,
       "statement_ids": [
        15
       ]
      },
      "text/plain": [
       "StatementMeta(, 8c75f6dc-9a98-446c-957a-b0fa1e9d3fa5, 15, Finished, Available, Finished)"
      ]
     },
     "metadata": {},
     "output_type": "display_data"
    }
   ],
   "source": [
    "from pyspark.sql.types import *\n",
    "import pyspark.sql.functions \n",
    "from pyspark.sql import *\n",
    "from pyspark.sql.functions import sum\n"
   ]
  },
  {
   "cell_type": "code",
   "execution_count": 14,
   "id": "6357dc47-1bb1-4391-8f38-b5d5a2abf5b2",
   "metadata": {
    "jupyter": {
     "outputs_hidden": false,
     "source_hidden": false
    },
    "microsoft": {
     "language": "python",
     "language_group": "synapse_pyspark"
    },
    "nteract": {
     "transient": {
      "deleting": false
     }
    }
   },
   "outputs": [
    {
     "data": {
      "application/vnd.livy.statement-meta+json": {
       "execution_finish_time": "2024-10-25T20:29:26.3332937Z",
       "execution_start_time": "2024-10-25T20:29:18.2199944Z",
       "livy_statement_state": "available",
       "normalized_state": "finished",
       "parent_msg_id": "901386c6-fa37-4dad-8a8d-34e1276108f8",
       "queued_time": "2024-10-25T20:29:17.7525504Z",
       "session_id": "8c75f6dc-9a98-446c-957a-b0fa1e9d3fa5",
       "session_start_time": null,
       "spark_pool": null,
       "state": "finished",
       "statement_id": 16,
       "statement_ids": [
        16
       ]
      },
      "text/plain": [
       "StatementMeta(, 8c75f6dc-9a98-446c-957a-b0fa1e9d3fa5, 16, Finished, Available, Finished)"
      ]
     },
     "metadata": {},
     "output_type": "display_data"
    },
    {
     "data": {
      "text/plain": [
       "[Row(ID='SO45376', Count=1, Date='1/5/2020', Name='Edgar Mehta', Style='Mountain-100 Silver, 38', price=3399.99, tax=271.9992),\n",
       " Row(ID='SO45381', Count=1, Date='1/6/2020', Name='Jordan Long', Style='Mountain-100 Silver, 38', price=3399.99, tax=271.9992)]"
      ]
     },
     "execution_count": 47,
     "metadata": {},
     "output_type": "execute_result"
    }
   ],
   "source": [
    "# Read the data from the silver layer:\n",
    "df_cleansed_2020orders = spark.read.format(\"delta\").load(\"abfss://fabric_medallion_arch_demo@onelake.dfs.fabric.microsoft.com/cleansed_test_Silver.Lakehouse/Tables/2020orders_silver\")\n",
    "\n",
    "df_cleansed_2020orders.head(2)"
   ]
  },
  {
   "cell_type": "code",
   "execution_count": 15,
   "id": "b1478c38-d56e-4a58-a551-405675f4110d",
   "metadata": {
    "jupyter": {
     "outputs_hidden": false,
     "source_hidden": false
    },
    "microsoft": {
     "language": "python",
     "language_group": "synapse_pyspark"
    },
    "nteract": {
     "transient": {
      "deleting": false
     }
    }
   },
   "outputs": [
    {
     "data": {
      "application/vnd.livy.statement-meta+json": {
       "execution_finish_time": "2024-10-25T20:29:26.9553583Z",
       "execution_start_time": "2024-10-25T20:29:26.7221718Z",
       "livy_statement_state": "available",
       "normalized_state": "finished",
       "parent_msg_id": "1d52d464-b1ce-40ca-a8b4-ed446b5980fd",
       "queued_time": "2024-10-25T20:29:18.1174684Z",
       "session_id": "8c75f6dc-9a98-446c-957a-b0fa1e9d3fa5",
       "session_start_time": null,
       "spark_pool": null,
       "state": "finished",
       "statement_id": 17,
       "statement_ids": [
        17
       ]
      },
      "text/plain": [
       "StatementMeta(, 8c75f6dc-9a98-446c-957a-b0fa1e9d3fa5, 17, Finished, Available, Finished)"
      ]
     },
     "metadata": {},
     "output_type": "display_data"
    }
   ],
   "source": [
    "df_cleansed_2020orders = df_cleansed_2020orders.withColumn(\"tax\", df_cleansed_2020orders[\"tax\"].cast(\"int\")) # type to int"
   ]
  },
  {
   "cell_type": "code",
   "execution_count": 16,
   "id": "f9da346b-2b25-463a-821d-6b8d7bda321e",
   "metadata": {
    "jupyter": {
     "outputs_hidden": false,
     "source_hidden": false
    },
    "microsoft": {
     "language": "python",
     "language_group": "synapse_pyspark"
    },
    "nteract": {
     "transient": {
      "deleting": false
     }
    }
   },
   "outputs": [
    {
     "data": {
      "application/vnd.livy.statement-meta+json": {
       "execution_finish_time": "2024-10-25T20:29:27.5846334Z",
       "execution_start_time": "2024-10-25T20:29:27.3402865Z",
       "livy_statement_state": "available",
       "normalized_state": "finished",
       "parent_msg_id": "882470dc-dab6-4bef-bf92-1f25c81c4bad",
       "queued_time": "2024-10-25T20:29:18.3209761Z",
       "session_id": "8c75f6dc-9a98-446c-957a-b0fa1e9d3fa5",
       "session_start_time": null,
       "spark_pool": null,
       "state": "finished",
       "statement_id": 18,
       "statement_ids": [
        18
       ]
      },
      "text/plain": [
       "StatementMeta(, 8c75f6dc-9a98-446c-957a-b0fa1e9d3fa5, 18, Finished, Available, Finished)"
      ]
     },
     "metadata": {},
     "output_type": "display_data"
    },
    {
     "name": "stdout",
     "output_type": "stream",
     "text": [
      "root\n",
      " |-- ID: string (nullable = true)\n",
      " |-- Count: integer (nullable = true)\n",
      " |-- Date: string (nullable = true)\n",
      " |-- Name: string (nullable = true)\n",
      " |-- Style: string (nullable = true)\n",
      " |-- price: double (nullable = true)\n",
      " |-- tax: integer (nullable = true)\n",
      "\n"
     ]
    }
   ],
   "source": [
    "df_cleansed_2020orders.printSchema()"
   ]
  },
  {
   "cell_type": "code",
   "execution_count": 17,
   "id": "5f5c8125-cbf5-4e00-9d8f-0c437f25b37f",
   "metadata": {
    "jupyter": {
     "outputs_hidden": false,
     "source_hidden": false
    },
    "microsoft": {
     "language": "python",
     "language_group": "synapse_pyspark"
    },
    "nteract": {
     "transient": {
      "deleting": false
     }
    }
   },
   "outputs": [
    {
     "data": {
      "application/vnd.livy.statement-meta+json": {
       "execution_finish_time": "2024-10-25T20:29:34.3035094Z",
       "execution_start_time": "2024-10-25T20:29:27.9679539Z",
       "livy_statement_state": "available",
       "normalized_state": "finished",
       "parent_msg_id": "9a5b30d2-5552-495b-b0a7-c5cfed0bebd8",
       "queued_time": "2024-10-25T20:29:18.5521281Z",
       "session_id": "8c75f6dc-9a98-446c-957a-b0fa1e9d3fa5",
       "session_start_time": null,
       "spark_pool": null,
       "state": "finished",
       "statement_id": 19,
       "statement_ids": [
        19
       ]
      },
      "text/plain": [
       "StatementMeta(, 8c75f6dc-9a98-446c-957a-b0fa1e9d3fa5, 19, Finished, Available, Finished)"
      ]
     },
     "metadata": {},
     "output_type": "display_data"
    },
    {
     "name": "stdout",
     "output_type": "stream",
     "text": [
      "+-----------------------+--------------------+\n",
      "|Style                  |total_price_vehicles|\n",
      "+-----------------------+--------------------+\n",
      "|Mountain-200 Black, 42 |196713.42720000003  |\n",
      "|Mountain-100 Silver, 42|71399.78999999998   |\n",
      "|Mountain-200 Silver, 42|159499.30919999976  |\n",
      "|Mountain-100 Silver, 44|71399.78999999998   |\n",
      "|Road-550-W Yellow, 40  |37016.1875          |\n",
      "|Mountain-100 Silver, 38|64599.80999999997   |\n",
      "|Road-250 Red, 48       |256551.75000000044  |\n",
      "|Road-250 Red, 52       |217458.15000000034  |\n",
      "|Road-650 Red, 52       |20301.81200000001   |\n",
      "|Road-250 Black, 52     |253061.25           |\n",
      "+-----------------------+--------------------+\n",
      "only showing top 10 rows\n",
      "\n",
      "DataFrame[Style: string, total_price_vehicles: double]\n"
     ]
    }
   ],
   "source": [
    "# Group and Aggregate the Data:\n",
    "df_aggregated = df_cleansed_2020orders.groupBy(\"Style\").agg(sum(\"price\").alias(\"total_price_vehicles\"))\n",
    "df_aggregated.show(10, truncate=False)\n",
    "print(df_aggregated)"
   ]
  },
  {
   "cell_type": "code",
   "execution_count": 18,
   "id": "c83d4e46-2b49-490f-aadb-87a350c85e89",
   "metadata": {
    "jupyter": {
     "outputs_hidden": false,
     "source_hidden": false
    },
    "microsoft": {
     "language": "python",
     "language_group": "synapse_pyspark"
    },
    "nteract": {
     "transient": {
      "deleting": false
     }
    }
   },
   "outputs": [
    {
     "data": {
      "application/vnd.livy.statement-meta+json": {
       "execution_finish_time": "2024-10-25T20:29:39.5141044Z",
       "execution_start_time": "2024-10-25T20:29:34.7050563Z",
       "livy_statement_state": "available",
       "normalized_state": "finished",
       "parent_msg_id": "56e18a6c-9106-4200-a6cc-7386c03b93d3",
       "queued_time": "2024-10-25T20:29:18.7090964Z",
       "session_id": "8c75f6dc-9a98-446c-957a-b0fa1e9d3fa5",
       "session_start_time": null,
       "spark_pool": null,
       "state": "finished",
       "statement_id": 20,
       "statement_ids": [
        20
       ]
      },
      "text/plain": [
       "StatementMeta(, 8c75f6dc-9a98-446c-957a-b0fa1e9d3fa5, 20, Finished, Available, Finished)"
      ]
     },
     "metadata": {},
     "output_type": "display_data"
    }
   ],
   "source": [
    "# Save the cleaned data to the \"curated_Gold\" table in the Gold lakehouse:\n",
    "df_aggregated.write.format(\"delta\").mode(\"overwrite\").save(\"abfss://fabric_medallion_arch_demo@onelake.dfs.fabric.microsoft.com/curated_Gold.Lakehouse/Tables/2020orders_gold\")"
   ]
  },
  {
   "cell_type": "markdown",
   "id": "f830afb3-2b02-4076-800a-85ca9fc33fea",
   "metadata": {
    "microsoft": {
     "language": "python",
     "language_group": "synapse_pyspark"
    },
    "nteract": {
     "transient": {
      "deleting": false
     }
    }
   },
   "source": [
    "## Working with products_silver information"
   ]
  },
  {
   "cell_type": "code",
   "execution_count": 19,
   "id": "7f72ac98-4ece-4a8a-a5c5-5e1fc7273382",
   "metadata": {
    "jupyter": {
     "outputs_hidden": false,
     "source_hidden": false
    },
    "microsoft": {
     "language": "python",
     "language_group": "synapse_pyspark"
    },
    "nteract": {
     "transient": {
      "deleting": false
     }
    }
   },
   "outputs": [
    {
     "data": {
      "application/vnd.livy.statement-meta+json": {
       "execution_finish_time": "2024-10-25T20:29:49.090114Z",
       "execution_start_time": "2024-10-25T20:29:45.5790407Z",
       "livy_statement_state": "available",
       "normalized_state": "finished",
       "parent_msg_id": "67830cc7-dbf9-4b47-a9ea-51ce1c29634b",
       "queued_time": "2024-10-25T20:29:45.1788369Z",
       "session_id": "8c75f6dc-9a98-446c-957a-b0fa1e9d3fa5",
       "session_start_time": null,
       "spark_pool": null,
       "state": "finished",
       "statement_id": 21,
       "statement_ids": [
        21
       ]
      },
      "text/plain": [
       "StatementMeta(, 8c75f6dc-9a98-446c-957a-b0fa1e9d3fa5, 21, Finished, Available, Finished)"
      ]
     },
     "metadata": {},
     "output_type": "display_data"
    }
   ],
   "source": [
    "# Read data from the Silver layer\n",
    "silver_df = spark.read.format(\"delta\").load(\"abfss://fabric_medallion_arch_demo@onelake.dfs.fabric.microsoft.com/cleansed_test_Silver.Lakehouse/Tables/products_silver\")\n",
    "# Perform transformations (if any)\n",
    "silver_df = silver_df  # Assuming no transformations for simplicity\n",
    "# Write data to the Gold layer\n",
    "silver_df.write.mode(\"overwrite\").format(\"delta\").save(\"abfss://fabric_medallion_arch_demo@onelake.dfs.fabric.microsoft.com/curated_gold.Lakehouse/Tables/products_silver\")"
   ]
  }
 ],
 "metadata": {
  "dependencies": {
   "lakehouse": {
    "default_lakehouse": "251cd515-16a3-4555-a3d2-dfd12adb2335",
    "default_lakehouse_name": "raw_Bronze",
    "default_lakehouse_workspace_id": "597e0afc-c8db-4f4d-8464-d13570f5b075"
   }
  },
  "kernel_info": {
   "name": "synapse_pyspark"
  },
  "kernelspec": {
   "display_name": "Synapse PySpark",
   "language": "Python",
   "name": "synapse_pyspark"
  },
  "language_info": {
   "name": "python"
  },
  "microsoft": {
   "language": "python",
   "language_group": "synapse_pyspark",
   "ms_spell_check": {
    "ms_spell_check_language": "en"
   }
  },
  "nteract": {
   "version": "nteract-front-end@1.0.0"
  },
  "spark_compute": {
   "compute_id": "/trident/default",
   "session_options": {
    "conf": {
     "spark.synapse.nbs.session.timeout": "1200000"
    }
   }
  },
  "widgets": {
   "application/vnd.jupyter.widget-state+json": {
    "state": {},
    "version": "1.0"
   }
  }
 },
 "nbformat": 4,
 "nbformat_minor": 5
}
